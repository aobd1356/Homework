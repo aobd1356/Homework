{
  "nbformat": 4,
  "nbformat_minor": 0,
  "metadata": {
    "colab": {
      "provenance": [],
      "authorship_tag": "ABX9TyORQCKYAUvOG4y4S6ut2DYl",
      "include_colab_link": true
    },
    "kernelspec": {
      "name": "python3",
      "display_name": "Python 3"
    },
    "language_info": {
      "name": "python"
    }
  },
  "cells": [
    {
      "cell_type": "markdown",
      "metadata": {
        "id": "view-in-github",
        "colab_type": "text"
      },
      "source": [
        "<a href=\"https://colab.research.google.com/github/aobd1356/Homework/blob/main/HW2.ipynb\" target=\"_parent\"><img src=\"https://colab.research.google.com/assets/colab-badge.svg\" alt=\"Open In Colab\"/></a>"
      ]
    },
    {
      "cell_type": "markdown",
      "source": [
        "# HW02 Web Crawler"
      ],
      "metadata": {
        "id": "LaSCt-aQYWB_"
      }
    },
    {
      "cell_type": "markdown",
      "source": [
        "##題目\n",
        "透過爬蟲技術收集KKday上東京的美食排行榜"
      ],
      "metadata": {
        "id": "4pmfnO5XYk1K"
      }
    },
    {
      "cell_type": "markdown",
      "source": [
        "##摘要\n",
        "我在六月時將去日本東京，我想透過這次的報告收集一下我去那裏有什麼好吃的\n"
      ],
      "metadata": {
        "id": "wsUm97t-YvnB"
      }
    },
    {
      "cell_type": "markdown",
      "source": [
        "##引言\n",
        "日本東京是個十分熱鬧的大城市，在那裏的餐廳多到數不完，但到底有哪些是好吃的也些是難吃的我自己都不清楚，所以要透過爬取KKday別人的評價來尋找好吃的餐廳使我吃了部會後悔。"
      ],
      "metadata": {
        "id": "dYVhNrEXZYcY"
      }
    },
    {
      "cell_type": "markdown",
      "source": [
        "##方法\n",
        "- 目標網站描述\n",
        "  - 目標網站：KKday 在東京的熱門美食。  \n",
        "  https://www.kkday.com/zh-tw/category/jp-tokyo/restaurants/list/?currency=TWD&sort=omdesc&page=1&count=10&destination=D-JP-3261&prodcat=CATEGORY_079&row=10&immediately_use=0&sale_status=0\n",
        "\n",
        "- 工具與技術\n",
        "  - 使用 Python 的 `requests` 庫發送 HTTP 請求。\n",
        "  - 使用 `BeautifulSoup` 解析 HTML。\n",
        "  - 使用 Google Chrome 開發者工具取得 AJAX 資料。"
      ],
      "metadata": {
        "id": "nhuQ9SQpa1wE"
      }
    },
    {
      "cell_type": "code",
      "source": [
        "import requests\n",
        "from bs4 import BeautifulSoup\n",
        "\n",
        "url = 'https://www.kkday.com/zh-tw/category/jp-tokyo/restaurants/list/?currency=TWD&sort=omdesc&page=1&count=10&destination=D-JP-3261&prodcat=CATEGORY_079&row=10&immediately_use=0&sale_status=0'\n",
        "headers = {\n",
        "    'user-agent': 'Mozilla/5.0 (Windows NT 10.0; Win64; x64) AppleWebKit/537.36 (KHTML, like Gecko) Chrome/135.0.0.0 Safari/537.36 Edg/135.0.0.0'\n",
        "}\n",
        "\n",
        "response = requests.get(url, headers=headers)\n",
        "soup = BeautifulSoup(response.text, 'lxml')\n",
        "\n",
        "# 測試是否正確抓取到網頁標題\n",
        "print(soup.title.text)\n"
      ],
      "metadata": {
        "colab": {
          "base_uri": "https://localhost:8080/"
        },
        "id": "glxrgJa39CdS",
        "outputId": "589270fa-73b9-49e6-92f1-b65d6f050cb1"
      },
      "execution_count": 1,
      "outputs": [
        {
          "output_type": "stream",
          "name": "stdout",
          "text": [
            "Top 18313 東京 美食 - 2025 更新 - KKday\n"
          ]
        }
      ]
    },
    {
      "cell_type": "code",
      "source": [
        "import requests\n",
        "url = 'https://www.kkday.com/zh-tw/category/ajax_get_top_products?productCategory=CATEGORY_079&destination=D-JP-3261'\n",
        "headers = {'user-agent':'Mozilla/5.0(Windows NT 10.0; Win64; x64) AppleWebKit/537.36 (KHTML, like Gecko) Chrome/129.0.0.0 Safari/537.36'}\n",
        "response = requests.get(url,headers=headers)\n",
        "data=response.json()"
      ],
      "metadata": {
        "id": "GvGpSmSD9VmK"
      },
      "execution_count": 3,
      "outputs": []
    },
    {
      "cell_type": "code",
      "source": [
        "data['data'][0]"
      ],
      "metadata": {
        "colab": {
          "base_uri": "https://localhost:8080/"
        },
        "id": "lb1ulES49lQi",
        "outputId": "dbd4bf60-d7c0-4b4b-f328-226d3cad64d8"
      },
      "execution_count": 4,
      "outputs": [
        {
          "output_type": "execute_result",
          "data": {
            "text/plain": [
              "{'id': 141701,\n",
              " 'prod_oid': 141701,\n",
              " 'name': '日本東京|肉屋台所 A5和牛燒肉吃到飽|東京新宿・澀谷・上野等',\n",
              " 'introduction': '東京都內的肉屋台所有上野店、上野公園店、新宿店、澀谷宮益坂店、道玄坂店、飯田橋店、五反田店等分店。本店一次大量採購精選A4和A5等級的和牛,搭配肉料理職人的肉品區塊分解,來降低中間加工費用,實現了高 CP 值的料理。提供您用合理價格享受和牛臀肉和芯玉等稀少部位的吃到飽服務。',\n",
              " 'rating_count': 328,\n",
              " 'rating_star': 4.19,\n",
              " 'order_count': 2586,\n",
              " 'show_order_count': '2K+',\n",
              " 'confirm_hour': 0,\n",
              " 'instant_booking': True,\n",
              " 'instant_use': True,\n",
              " 'free_refund_policy': True,\n",
              " 'free_refund_before_day': 4,\n",
              " 'earliest_sale_date': '20250510',\n",
              " 'sale_status': '1',\n",
              " 'purchase_type': None,\n",
              " 'purchase_date': None,\n",
              " 'is_tourism_product': True,\n",
              " 'readable_url': 'all-you-can-eat-japanese-wagyu-beef-bbq-yakiniku-butchers-kitchen-ueno-park-branch-tokyo-gourmet',\n",
              " 'main_cat_key': 'M05',\n",
              " 'product_category': {'main': 'CATEGORY_079', 'sub': []},\n",
              " 'promo_tag_keys': [],\n",
              " 'cat_key': ['TAG_2_5', 'TAG_3_2'],\n",
              " 'theme_code': [],\n",
              " 'product_labels': [],\n",
              " 'img_url': 'https://image.kkday.com/image/get/w_600%2Cc_fit/s1.kkday.com/product_141701/20230330082655_bw4ZN/jpg',\n",
              " 'img_url_list': ['https://image.kkday.com/image/get/w_600%2Cc_fit/s1.kkday.com/product_141701/20230330082655_bw4ZN/jpg',\n",
              "  'https://image.kkday.com/image/get/w_600%2Cc_fit/s1.kkday.com/product_141701/20230330082653_I4Mei/png',\n",
              "  'https://image.kkday.com/image/get/w_600%2Cc_fit/s1.kkday.com/product_141701/20230330082654_tBdX5/png',\n",
              "  'https://image.kkday.com/image/get/w_600%2Cc_fit/s1.kkday.com/product_141701/20230330082655_wWTjF/jpg',\n",
              "  'https://image.kkday.com/image/get/w_600%2Cc_fit/s1.kkday.com/product_141701/20230330082657_AJkAq/png',\n",
              "  'https://image.kkday.com/image/get/w_600%2Cc_fit/s1.kkday.com/product_141701/20250314075230_oSnHE/jpg',\n",
              "  'https://image.kkday.com/image/get/w_600%2Cc_fit/s1.kkday.com/product_141701/20230330082658_aVIyg/jpg',\n",
              "  'https://image.kkday.com/image/get/w_600%2Cc_fit/s1.kkday.com/product_141701/20230330082659_fKF6l/jpg',\n",
              "  'https://image.kkday.com/image/get/w_600%2Cc_fit/s1.kkday.com/product_141701/20230330082701_eHrW8/jpg'],\n",
              " 'duration': 0,\n",
              " 'days': 0,\n",
              " 'hours': 0,\n",
              " 'minutes': 0,\n",
              " 'currency': 'TWD',\n",
              " 'display_sale_price': '1,249',\n",
              " 'sale_price': 1249,\n",
              " 'display_price': '1,249',\n",
              " 'price': 1249,\n",
              " 'discount': 0,\n",
              " 'is_display_price': False,\n",
              " 'app_cheaper_than_web': False,\n",
              " 'max_price': 3123,\n",
              " 'countries': [{'id': 'A01-003',\n",
              "   'name': '日本',\n",
              "   'cities': [{'id': 'A01-003-99999', 'name': '所有城市'},\n",
              "    {'id': 'A01-003-00001', 'name': '東京'}]}],\n",
              " 'is_marketplace': False,\n",
              " 'supplier_oid_list': ['29844', '11520'],\n",
              " 'supplier_name': None,\n",
              " 'supplier_logo': None,\n",
              " 'supplier_award': 0,\n",
              " 'supplier_badge': 0,\n",
              " 'is_zero_price': False,\n",
              " 'destinations': [{'code': 'D-JP-7753', 'name': '宮益坂'},\n",
              "  {'code': 'D-JP-3651', 'name': '新宿'},\n",
              "  {'code': 'D-JP-3654', 'name': '澀谷'},\n",
              "  {'code': 'D-JP-3660', 'name': '品川'},\n",
              "  {'code': 'D-JP-7347', 'name': '日本橋川'},\n",
              "  {'code': 'D-JP-7423', 'name': '中區'},\n",
              "  {'code': 'D-JP-7501', 'name': '谷中'},\n",
              "  {'code': 'D-JP-7525', 'name': '新日本橋'},\n",
              "  {'code': 'D-JP-8015', 'name': '日本橋'},\n",
              "  {'code': 'D-JP-3261', 'name': '東京'},\n",
              "  {'code': 'D-JP-3218', 'name': '關東'},\n",
              "  {'code': 'D-JP-112', 'name': '日本'}]}"
            ]
          },
          "metadata": {},
          "execution_count": 4
        }
      ]
    },
    {
      "cell_type": "code",
      "source": [
        "from IPython.display import Image, display\n",
        "\n",
        "for data in data['data']:\n",
        "  print(data['name'],data['rating_star'],data['sale_price'])\n",
        "  print(data['introduction'])\n",
        "  display(Image(url=data['img_url'],width=300))\n",
        "  print('-'*3)\n",
        "  print()"
      ],
      "metadata": {
        "colab": {
          "base_uri": "https://localhost:8080/",
          "height": 1000
        },
        "id": "0tlQkCWA98aq",
        "outputId": "30467b37-f6d6-4157-ba6c-b608e37ff6e9"
      },
      "execution_count": 7,
      "outputs": [
        {
          "output_type": "stream",
          "name": "stdout",
          "text": [
            "日本東京|肉屋台所 A5和牛燒肉吃到飽|東京新宿・澀谷・上野等 4.19 1249\n",
            "東京都內的肉屋台所有上野店、上野公園店、新宿店、澀谷宮益坂店、道玄坂店、飯田橋店、五反田店等分店。本店一次大量採購精選A4和A5等級的和牛,搭配肉料理職人的肉品區塊分解,來降低中間加工費用,實現了高 CP 值的料理。提供您用合理價格享受和牛臀肉和芯玉等稀少部位的吃到飽服務。\n"
          ]
        },
        {
          "output_type": "display_data",
          "data": {
            "text/html": [
              "<img src=\"https://image.kkday.com/image/get/w_600%2Cc_fit/s1.kkday.com/product_141701/20230330082655_bw4ZN/jpg\" width=\"300\"/>"
            ],
            "text/plain": [
              "<IPython.core.display.Image object>"
            ]
          },
          "metadata": {}
        },
        {
          "output_type": "stream",
          "name": "stdout",
          "text": [
            "---\n",
            "\n",
            "東京新宿| 燒肉新宿烤肉牛舌檸檬(新宿烤肉牛舌檸檬本店)|僅座位預訂 4.77 92\n",
            "厚切牛舌味道鮮美! 「新宿烤肉牛舌的檸檬」的總店。唯一直營店在大阪難波開幕。如果您想在之前去, 11:30 或 17:00 是最佳時間! !您也可以透過電話預訂!\n",
            "此外,即使Tabelog線上預訂已滿,透過Instagram預訂也可能有空位!\n",
            "轉到下面的 URL。\n",
            "我們還提供免費座位,因此您當天可以來,無需預約。\n",
            "\n",
            "備註:對於已預訂的顧客\n",
            "若您遲到5分鐘以上且沒有聯絡我們,我們將讓等候的顧客先入。\n",
            "請等到下一個座位空出來。\n",
            "週五、六至 22:30\n",
            "備註:套餐限60分鐘。\n",
            "注意:無法指定座位類型\n"
          ]
        },
        {
          "output_type": "display_data",
          "data": {
            "text/html": [
              "<img src=\"https://image.kkday.com/image/get/w_600%2Cc_fit/s1.kkday.com/product_207035/20241001165737_QCecs/png\" width=\"300\"/>"
            ],
            "text/plain": [
              "<IPython.core.display.Image object>"
            ]
          },
          "metadata": {}
        },
        {
          "output_type": "stream",
          "name": "stdout",
          "text": [
            "---\n",
            "\n",
            "日本\b人氣河豚餐廳 | 河豚料理名店・玄品河豚 4.62 1104\n",
            "線上訂購日本人氣河豚餐廳,東京、大阪、京都、北海道各種分店自由選擇,創業 33 年銷售量及店鋪數量日本第一的「 玄品河豚 」每年到訪人數達 81 萬人,「 虎河豚 」被視為最高級的品種。為了以更加美味的狀態提供虎河豚,玄品河豚的獨家技術獲得了國際專利!通過 KKday 預訂免排隊,用餐更方便!\n"
          ]
        },
        {
          "output_type": "display_data",
          "data": {
            "text/html": [
              "<img src=\"https://image.kkday.com/image/get/w_600%2Cc_fit/s1.kkday.com/product_11352/20210520013355_dIBW8/jpg\" width=\"300\"/>"
            ],
            "text/plain": [
              "<IPython.core.display.Image object>"
            ]
          },
          "metadata": {}
        },
        {
          "output_type": "stream",
          "name": "stdout",
          "text": [
            "---\n",
            "\n",
            "東京淺草| 燒肉Ittogai Yakiniku Gen(一頭買焼肉 玄 浅草本店)|僅座位預訂 0 92\n",
            "買一整頭A5級黑毛牛!以合理的價格享用松阪牛等高品質烤肉◎我們承辦各種宴會! 。 Gen的四大特長! 《買一頭》享受包括稀有零件在內的各種組合。\n",
            "【A5級黑毛和牛】以合理的價格提供高品質的烤肉。\n",
            "《麵筋》令人自豪的美味,新鮮度出眾!我們還有生魚片和生魚片。\n",
            "【松阪牛】農場直送,性價比超高!請盡情享受日本三大和牛的美味。店內的內部是一個可以讓您放鬆身心的高品質空間。私人房間可容納 2 至 24 人。現承接各類宴會!請預約。\n"
          ]
        },
        {
          "output_type": "display_data",
          "data": {
            "text/html": [
              "<img src=\"https://image.kkday.com/image/get/w_600%2Cc_fit/s1.kkday.com/product_199059/20241002123241_XeEmg/png\" width=\"300\"/>"
            ],
            "text/plain": [
              "<IPython.core.display.Image object>"
            ]
          },
          "metadata": {}
        },
        {
          "output_type": "stream",
          "name": "stdout",
          "text": [
            "---\n",
            "\n",
            "日本東京|和牛放題的殿堂  涉谷宇田川町 肉屋横丁|和牛燒肉吃到飽 4.07 1543\n",
            "「肉屋横丁」從涉谷站徒步約4分鐘即可抵達的正統日式燒肉吃到飽!!店內的裝潢也十分有情調,彷彿來到了燒肉樂園,店家準備30種以上的肉品,提供您盡情享用。因為是吃到飽,您可以到陳列櫃自行選擇喜歡的部位、份量,依照自己的步調想用最棒的燒肉。\n"
          ]
        },
        {
          "output_type": "display_data",
          "data": {
            "text/html": [
              "<img src=\"https://image.kkday.com/image/get/w_600%2Cc_fit/s1.kkday.com/product_142286/20230417025937_0As3l/jpg\" width=\"300\"/>"
            ],
            "text/plain": [
              "<IPython.core.display.Image object>"
            ]
          },
          "metadata": {}
        },
        {
          "output_type": "stream",
          "name": "stdout",
          "text": [
            "---\n",
            "\n",
            "日本東京|銀座天婦羅餐廳・天ぷら 阿部 銀座本店 3.67 2290\n",
            "位於東京都銀座的天婦羅餐廳-天ぷら 阿部 銀座本店。天婦羅料理名店,店內的水族缸中養放著每日新鮮直送的海鮮活物,提供您最新鮮的天婦羅料理。裹粉恰當、不過份油膩,酥脆透明的外衣搭配鮮嫩多汁的鮮蝦內裏,沾取簡單的胡椒鹽即能帶出新鮮食材天然滋味。\n"
          ]
        },
        {
          "output_type": "display_data",
          "data": {
            "text/html": [
              "<img src=\"https://image.kkday.com/image/get/w_600%2Cc_fit/s1.kkday.com/product_12090/20170523020721_E56CC/jpg\" width=\"300\"/>"
            ],
            "text/plain": [
              "<IPython.core.display.Image object>"
            ]
          },
          "metadata": {}
        },
        {
          "output_type": "stream",
          "name": "stdout",
          "text": [
            "---\n",
            "\n",
            "日本東京|淺草百年老店・壽喜燒ちんや (Chinya) |淺草本店 4.4 2269\n",
            "創業於1880年,淺草最古老的壽喜燒百年專門店「Chinya」,來到淺草品嚐最道地的壽喜燒吧。取一整頭牛中最完美平衡比例的「適度油花牛赤身」,牛赤身美味及脂肪甜味交錯,在壽喜燒的料理方式下,可以品嘗到牛肉本身的最大甜味。在大正摩登的環境下,度過令人難忘的美味時光。\n"
          ]
        },
        {
          "output_type": "display_data",
          "data": {
            "text/html": [
              "<img src=\"https://image.kkday.com/image/get/w_600%2Cc_fit/s1.kkday.com/product_143409/20230508003853_VUtXC/jpg\" width=\"300\"/>"
            ],
            "text/plain": [
              "<IPython.core.display.Image object>"
            ]
          },
          "metadata": {}
        },
        {
          "output_type": "stream",
          "name": "stdout",
          "text": [
            "---\n",
            "\n",
            "東京日本橋/京橋 |Sumibiyaki Horumon Guu(炭火焼ホルモン ぐう 日本橋)|僅座位預定 0 92\n",
            "【歡迎會、歡送會預約中】強力的管道,確保完美的通風!我們期待每天為您提供新鮮的內臟。美味、活力、有趣——這就是「Guu」! !\n",
            "歡迎大家品嚐每天送達的新鮮、精選的「生內臟」。\n",
            "\n",
            "可用於宴會、約會、紀念日、招待賓客等各種場合。\n",
            "大樓街道層的烤內臟餐廳。採用無菸管道,杜絕臭味,服務周到♪\n",
            "\n",
            "店內前方是桌椅,後面是吧台,是個時尚的空間! !\n",
            "以「可以放鬆的場所」為概念,營造出女性也容易進入的輕鬆氛圍!\n"
          ]
        },
        {
          "output_type": "display_data",
          "data": {
            "text/html": [
              "<img src=\"https://image.kkday.com/image/get/w_600%2Cc_fit/s1.kkday.com/product_200137/20241002124209_FdMb6/png\" width=\"300\"/>"
            ],
            "text/plain": [
              "<IPython.core.display.Image object>"
            ]
          },
          "metadata": {}
        },
        {
          "output_type": "stream",
          "name": "stdout",
          "text": [
            "---\n",
            "\n",
            "東京上野、禦徒町、湯島| 燒肉Bouya Horumon Kan(一頭牛燒肉 房家)|僅座位預訂 0 92\n",
            "[上野Fusaya激素會館重新開業! ] 】一樓:24個桌位,二樓:32個桌位。 ~在上野盡享昭風~\n",
            "\n",
            "◇ 肉品專家嚴選的新鮮內臟 ◇\n",
            "◇名菜牛腩排必嘗!\n",
            "\n",
            "1F\n",
            "●24 個桌椅 (6 x 4 座位)\n",
            "2樓\n",
            "●桌椅32席(2人席×2、4人席×7)\n"
          ]
        },
        {
          "output_type": "display_data",
          "data": {
            "text/html": [
              "<img src=\"https://image.kkday.com/image/get/w_600%2Cc_fit/s1.kkday.com/product_200896/20240924093113_LR76e/png\" width=\"300\"/>"
            ],
            "text/plain": [
              "<IPython.core.display.Image object>"
            ]
          },
          "metadata": {}
        },
        {
          "output_type": "stream",
          "name": "stdout",
          "text": [
            "---\n",
            "\n",
            "日本東京|燒肉 USHIHACHI 澀谷店・秋葉原店・上野店・品川港南口店 4.34 1228\n",
            "從澀谷車站步行只要 1 分鐘!目標「性價比日本第一的燒肉專門店」,店內牛肉採用黑毛和牛 A4 等級以上的母牛肉,主打用合理的價格帶給顧客優質又美味的肉品。\n",
            "位於可以俯視澀谷象徵地標「澀谷全向交叉路口」的店家,提供最多可供 10 人坐的包廂。極上牛八套餐,現正熱烈預購中!\n"
          ]
        },
        {
          "output_type": "display_data",
          "data": {
            "text/html": [
              "<img src=\"https://image.kkday.com/image/get/w_600%2Cc_fit/s1.kkday.com/product_138415/20230216003949_VZ228/jpg\" width=\"300\"/>"
            ],
            "text/plain": [
              "<IPython.core.display.Image object>"
            ]
          },
          "metadata": {}
        },
        {
          "output_type": "stream",
          "name": "stdout",
          "text": [
            "---\n",
            "\n"
          ]
        }
      ]
    },
    {
      "cell_type": "markdown",
      "source": [
        "##結果\n",
        "將數據儲存為CSV格式，方便後續分析"
      ],
      "metadata": {
        "id": "z7HFI4ZIcOQM"
      }
    },
    {
      "cell_type": "code",
      "source": [
        "df = pd.DataFrame(restaurant_list)\n",
        "df.to_csv('kkday_restaurants.csv', encoding='utf-8-sig', index=False)\n",
        "print(\"✅ 資料已儲存為 kkday_restaurants.csv\")"
      ],
      "metadata": {
        "id": "p-4vVvjLcZpl",
        "colab": {
          "base_uri": "https://localhost:8080/"
        },
        "outputId": "3359b584-40a4-4829-db5f-867eb06ad27c"
      },
      "execution_count": 9,
      "outputs": [
        {
          "output_type": "stream",
          "name": "stdout",
          "text": [
            "✅ 資料已儲存為 kkday_restaurants.csv\n"
          ]
        }
      ]
    },
    {
      "cell_type": "markdown",
      "source": [
        "##問題與挑戰\n",
        "因為這堂課我生病請假，所以我不知道如何尋找AJAX資料，所以花了許多時間去尋找\n"
      ],
      "metadata": {
        "id": "BYz5NCqBcan4"
      }
    },
    {
      "cell_type": "markdown",
      "source": [
        "##結論\n",
        "透過這次的爬蟲我了解許許多多知名的店家，讓我未來旅遊可以吃到更多美食\n"
      ],
      "metadata": {
        "id": "zSfh2tqKcamt"
      }
    },
    {
      "cell_type": "markdown",
      "source": [
        "##參考文獻\n",
        "https://www.kkday.com/zh-tw"
      ],
      "metadata": {
        "id": "5KocS4Z5cz_0"
      }
    }
  ]
}