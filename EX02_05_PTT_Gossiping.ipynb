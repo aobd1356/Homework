{
  "nbformat": 4,
  "nbformat_minor": 0,
  "metadata": {
    "colab": {
      "provenance": [],
      "authorship_tag": "ABX9TyOiSJyJWCZm5vXcbEqMH+Fc",
      "include_colab_link": true
    },
    "kernelspec": {
      "name": "python3",
      "display_name": "Python 3"
    },
    "language_info": {
      "name": "python"
    }
  },
  "cells": [
    {
      "cell_type": "markdown",
      "metadata": {
        "id": "view-in-github",
        "colab_type": "text"
      },
      "source": [
        "<a href=\"https://colab.research.google.com/github/aobd1356/Homework/blob/main/EX02_05_PTT_Gossiping.ipynb\" target=\"_parent\"><img src=\"https://colab.research.google.com/assets/colab-badge.svg\" alt=\"Open In Colab\"/></a>"
      ]
    },
    {
      "cell_type": "code",
      "execution_count": 1,
      "metadata": {
        "colab": {
          "base_uri": "https://localhost:8080/"
        },
        "id": "gpvbO2CQWoXS",
        "outputId": "216f2f31-efdb-4e46-efbe-ec45fe9e008c"
      },
      "outputs": [
        {
          "output_type": "execute_result",
          "data": {
            "text/plain": [
              "200"
            ]
          },
          "metadata": {},
          "execution_count": 1
        }
      ],
      "source": [
        "import requests\n",
        "from bs4 import BeautifulSoup\n",
        "\n",
        "url= 'https://www.ptt.cc/bbs/Movie/index.html'\n",
        "response=requests.get(url)\n",
        "response.status_code"
      ]
    },
    {
      "cell_type": "code",
      "source": [
        "soup=BeautifulSoup(response.text,'lxml')\n",
        "soup.title"
      ],
      "metadata": {
        "colab": {
          "base_uri": "https://localhost:8080/"
        },
        "id": "7tg4K3YhX_5q",
        "outputId": "766982c7-ea32-4110-9c61-c4108166bbdc"
      },
      "execution_count": 2,
      "outputs": [
        {
          "output_type": "execute_result",
          "data": {
            "text/plain": [
              "<title>看板 movie 文章列表 - 批踢踢實業坊</title>"
            ]
          },
          "metadata": {},
          "execution_count": 2
        }
      ]
    },
    {
      "cell_type": "code",
      "source": [
        "for atcl in soup.find_all('div',class_='r-ent'):\n",
        "  ttle=atcl.find('div',class_='title').a.text\n",
        "  href='https://www.ptt.cc'+atcl.find('div',class_='title').a.get('href')\n",
        "  date=atcl.find('div',class_='date').text\n",
        "  print(date, href, ttle)"
      ],
      "metadata": {
        "colab": {
          "base_uri": "https://localhost:8080/"
        },
        "id": "-jOFlVa8YNlA",
        "outputId": "59ad7f1e-c92f-47aa-c40a-60d2bea16be2"
      },
      "execution_count": 3,
      "outputs": [
        {
          "output_type": "stream",
          "name": "stdout",
          "text": [
            " 4/06 https://www.ptt.cc/bbs/movie/M.1743947111.A.CCD.html [問片] 有人知道這部嗎？很好看\n",
            " 9/04 https://www.ptt.cc/bbs/movie/M.1630756788.A.1FE.html [公告] 電影板板規 2022/12/5\n",
            " 9/15 https://www.ptt.cc/bbs/movie/M.1694784041.A.89F.html [公告] 禁政治版規 及 投票結果\n"
          ]
        }
      ]
    },
    {
      "cell_type": "code",
      "source": [
        "'https://www.ptt.cc'+soup.find_all('a',class_='btn wide')[1].get('href')"
      ],
      "metadata": {
        "colab": {
          "base_uri": "https://localhost:8080/",
          "height": 36
        },
        "id": "4sotklyIZI4J",
        "outputId": "c7c0f420-49ac-4a1b-8fe6-4a20a1079961"
      },
      "execution_count": 4,
      "outputs": [
        {
          "output_type": "execute_result",
          "data": {
            "text/plain": [
              "'https://www.ptt.cc/bbs/movie/index10554.html'"
            ],
            "application/vnd.google.colaboratory.intrinsic+json": {
              "type": "string"
            }
          },
          "metadata": {},
          "execution_count": 4
        }
      ]
    },
    {
      "cell_type": "code",
      "source": [
        "def get_articles(url):\n",
        "  response=requests.get(url)\n",
        "  soup=BeautifulSoup(response.text,'lxml')\n",
        "  for atcl in soup.find_all('div',class_='r-ent'):\n",
        "    if atcl.find('div',class_='title').a:\n",
        "      ttle=atcl.find('div',class_='title').a.text\n",
        "      href='https://www.ptt.cc'+atcl.find('div',class_='title').a.get('href')\n",
        "    else:\n",
        "      ttle=atcl.find('div',class_='title').text.strip()\n",
        "      href=''\n",
        "    date=atcl.findttle=atcl.find('div',class_='date').text\n",
        "    print(date,href,ttle)\n",
        "  url='https://www.ptt.cc'+soup.find_all('a',class_='btn wide')[1].get('href')\n",
        "  return url\n",
        "\n",
        "url='https://www.ptt.cc/bbs/Movie/index.html'\n",
        "for i in range(5):\n",
        "  url=get_articles(url)"
      ],
      "metadata": {
        "colab": {
          "base_uri": "https://localhost:8080/"
        },
        "id": "9p8x2a7AZdeo",
        "outputId": "a10b9479-b0c4-4f02-f41f-64f8c60073e1"
      },
      "execution_count": 5,
      "outputs": [
        {
          "output_type": "stream",
          "name": "stdout",
          "text": [
            " 4/06 https://www.ptt.cc/bbs/movie/M.1743947111.A.CCD.html [問片] 有人知道這部嗎？很好看\n",
            " 4/06 https://www.ptt.cc/bbs/movie/M.1743948435.A.5A0.html [新聞] 現象級動畫《膽大黨：邪視》5月底啟動\n",
            " 4/06 https://www.ptt.cc/bbs/movie/M.1743948546.A.F17.html [普雷]耿軍作品《漂亮朋友》：偷偷 \n",
            " 9/04 https://www.ptt.cc/bbs/movie/M.1630756788.A.1FE.html [公告] 電影板板規 2022/12/5\n",
            " 9/15 https://www.ptt.cc/bbs/movie/M.1694784041.A.89F.html [公告] 禁政治版規 及 投票結果\n",
            " 4/05 https://www.ptt.cc/bbs/movie/M.1743852678.A.02A.html [討論] 美國隊長在復4電梯如果對光頭吹氣會?\n",
            " 4/05 https://www.ptt.cc/bbs/movie/M.1743858790.A.E09.html [好微雷] 366日:沖繩推廣好片\n",
            " 4/05 https://www.ptt.cc/bbs/movie/M.1743867193.A.D6B.html [新聞] 《飢餓遊戲》第二部外傳「少年版黑密契」\n",
            " 4/05 https://www.ptt.cc/bbs/movie/M.1743867282.A.37D.html [新聞] 阿湯哥期待新片《F1》大讚小布駕駛技術：\n",
            " 4/06 https://www.ptt.cc/bbs/movie/M.1743870684.A.97D.html [新聞] 創:戰神 Tron: Ares首支預告片\n",
            " 4/06 https://www.ptt.cc/bbs/movie/M.1743875519.A.E58.html [討論] 漫威製片證實「驚奇少女」很快就有回歸計\n",
            " 4/06 https://www.ptt.cc/bbs/movie/M.1743876234.A.5EB.html [討論] 電影展(Cinemacon)記者心得:今年漫威無聊\n",
            " 4/06  (擦邊球 易引戰) <tuboshu>\n",
            " 4/06 https://www.ptt.cc/bbs/movie/M.1743916714.A.CAA.html [公告] 水桶 刪文\n",
            " 4/06 https://www.ptt.cc/bbs/movie/M.1743920249.A.487.html [負雷] 麥塊 沒邏輯+太兒童化\n",
            " 4/06 https://www.ptt.cc/bbs/movie/M.1743923635.A.9FF.html [討論] 怪獸與鄧不利多的秘密 結尾詢問\n",
            " 4/06 https://www.ptt.cc/bbs/movie/M.1743924998.A.C4B.html [新聞] 迪士尼《白雪公主》恐賠1億！女主角招罵\n",
            " 4/06 https://www.ptt.cc/bbs/movie/M.1743925914.A.34D.html [請益] 九龍城寨 龍捲風髮廊問題\n",
            " 4/06 https://www.ptt.cc/bbs/movie/M.1743931200.A.E1F.html [好微雷] 366日：無論如何都該愛一場 \n",
            " 4/06 https://www.ptt.cc/bbs/movie/M.1743932129.A.A1F.html [贈票] 【366日】威秀影城兌換票券\n",
            " 4/06  (本文已被刪除) [XDGEE]\n",
            " 4/06 https://www.ptt.cc/bbs/movie/M.1743936008.A.211.html [新聞] 蓋瑞奇《威龍殺陣2》與傑克葛倫霍合作！\n",
            " 4/06 https://www.ptt.cc/bbs/movie/M.1743936139.A.054.html [新聞] 《驚奇隊長2》口碑暴死！導演感嘆電影被\n",
            " 4/06 https://www.ptt.cc/bbs/movie/M.1743936944.A.7CB.html [好雷]  Given劇場版：去海邊  至少還有音樂\n",
            " 4/06 https://www.ptt.cc/bbs/movie/M.1743942794.A.6B0.html [問片] 打槍子彈飛到天空，問個\n",
            " 4/04 https://www.ptt.cc/bbs/movie/M.1743736201.A.D5C.html [好無雷] 被告汪星人 動物行為學中的生命重量\n",
            " 4/04 https://www.ptt.cc/bbs/movie/M.1743742005.A.4AA.html Re: [大負雷]《灌籃高手》你要這樣還不如別出 \n",
            " 4/04 https://www.ptt.cc/bbs/movie/M.1743742809.A.E73.html Re: [ 好雷]  日片366日 主角不是渣男啊！\n",
            " 4/04 https://www.ptt.cc/bbs/movie/M.1743767593.A.3AE.html [新聞] 和蝙蝠俠《黑暗騎士》撞片名！導演不甩華\n",
            " 4/04 https://www.ptt.cc/bbs/movie/M.1743767679.A.1CB.html [新聞] 迪士尼緊急中止製作《魔髮奇緣》真人版！\n",
            " 4/04 https://www.ptt.cc/bbs/movie/M.1743781855.A.61F.html [討論] 無法理解為何高分的電影？\n",
            " 4/05 https://www.ptt.cc/bbs/movie/M.1743783107.A.DCE.html [好雷] 電影版孤獨的美食家\n",
            " 4/05 https://www.ptt.cc/bbs/movie/M.1743785103.A.F4F.html Re: [討論] 無法理解為何高分的電影？\n",
            " 4/05 https://www.ptt.cc/bbs/movie/M.1743786935.A.62A.html [普雷] 追殺比爾之我錯怪比爾了\n",
            " 4/05 https://www.ptt.cc/bbs/movie/M.1743794421.A.60D.html [新聞] 《拍射吧！廷方！》台AV女優爆拍完國片順\n",
            " 4/05 https://www.ptt.cc/bbs/movie/M.1743812705.A.B06.html [新聞] 湯姆克魯斯公開悼念《捍衛戰士》老搭檔\n",
            " 4/05 https://www.ptt.cc/bbs/movie/M.1743819824.A.BD8.html [問片] 從演員找影片\n",
            " 4/05 https://www.ptt.cc/bbs/movie/M.1743827721.A.E90.html [片單] 深夜守則之類的電影？\n",
            " 4/05 https://www.ptt.cc/bbs/movie/M.1743830644.A.C13.html [普負雷] 黑袋行動\n",
            " 4/05 https://www.ptt.cc/bbs/movie/M.1743832784.A.92D.html [請益] 近15年內,菸霧繚繞的電影？\n",
            " 4/05 https://www.ptt.cc/bbs/movie/M.1743835012.A.F21.html [好雷] 我在平行時空戀上妳\n",
            " 4/05 https://www.ptt.cc/bbs/movie/M.1743836105.A.7DB.html [新聞] 英國演員羅素布蘭德被指控性侵多女\n",
            " 4/05 https://www.ptt.cc/bbs/movie/M.1743838583.A.6A2.html Re: [大負雷]《灌籃高手》你要這樣還不如別出 \n",
            " 4/05 https://www.ptt.cc/bbs/movie/M.1743840817.A.2F1.html ［問題］非普通家族的鋪陳？\n",
            " 4/05 https://www.ptt.cc/bbs/movie/M.1743843750.A.14A.html [LIVE] HBO 22:00 微笑 2\n",
            " 4/03 https://www.ptt.cc/bbs/movie/M.1743677078.A.669.html [超好雷] 我依然在此 Ainda Estou Aqui\n",
            " 4/03 https://www.ptt.cc/bbs/movie/M.1743683207.A.34E.html [好雷] 分居風暴\n",
            " 4/03 https://www.ptt.cc/bbs/movie/M.1743690224.A.1AC.html [討論] 刺激1995的字幕翻譯\n",
            " 4/03 https://www.ptt.cc/bbs/movie/M.1743690551.A.95A.html [討論] 會計師2 第二支預告 爛番茄84%\n",
            " 4/03 https://www.ptt.cc/bbs/movie/M.1743690861.A.987.html [閒聊] 白雪公主三級片評分比迪士尼高3倍...\n",
            " 4/03 https://www.ptt.cc/bbs/movie/M.1743691599.A.B44.html [負雷] 山中森林\n",
            " 4/03 https://www.ptt.cc/bbs/movie/M.1743691829.A.8E7.html [新聞] 麥可傑克森傳記片「戀童指控劇情」刪掉！\n",
            " 4/03 https://www.ptt.cc/bbs/movie/M.1743691866.A.C11.html [新聞] 真人版《馴龍高手》外媒好評熱烈！選角完\n",
            " 4/03 https://www.ptt.cc/bbs/movie/M.1743693478.A.7A6.html [好雷] 我依然在此\n",
            " 4/03 https://www.ptt.cc/bbs/movie/M.1743693770.A.7FE.html [情報] 窒友梅根2.0最新官方預告，全台6/27上映\n",
            " 4/03 https://www.ptt.cc/bbs/movie/M.1743695622.A.5C2.html [ 好雷]  日片366日 主角不是渣男啊！\n",
            " 4/04 https://www.ptt.cc/bbs/movie/M.1743701315.A.5C3.html [討論] 連恩尼遜變蘿莉「脫線神探」預告\n",
            " 4/04 https://www.ptt.cc/bbs/movie/M.1743701364.A.93E.html [討論] 關於《白頭神探》三部曲與凋零的惡搞喜劇\n",
            " 4/04 https://www.ptt.cc/bbs/movie/M.1743702507.A.556.html [好雷] 四月，她將到來\n",
            " 4/04 https://www.ptt.cc/bbs/movie/M.1743704251.A.E72.html [討論] 班史提勒證實「藍鋼」是改編自皮爾斯007\n",
            " 4/04 https://www.ptt.cc/bbs/movie/M.1743706755.A.2BB.html [好雷] 黛瑪:阿罵版「蜂刑者」教訓詐騙集團\n",
            " 4/04 https://www.ptt.cc/bbs/movie/M.1743717777.A.07E.html [新聞] 《膽大黨：邪視》 5月30日晚場起全台上映\n",
            " 4/04 https://www.ptt.cc/bbs/movie/M.1743717825.A.141.html [情報] 《超人 Superman》 新預告\n",
            " 4/04 https://www.ptt.cc/bbs/movie/M.1743732661.A.405.html [情報] 《魔髮奇緣》真人版企劃暫時擱置\n",
            " 4/04 https://www.ptt.cc/bbs/movie/M.1743736147.A.892.html Re: [討論] 會計師2 第二支預告 爛番茄84%\n",
            " 4/02 https://www.ptt.cc/bbs/movie/M.1743602255.A.63E.html [好雷]我在平行時空戀上妳（知らないカノジョ）\n",
            " 4/02 https://www.ptt.cc/bbs/movie/M.1743604141.A.770.html [普雷] MINECRAFT麥塊電影\n",
            " 4/02 https://www.ptt.cc/bbs/movie/M.1743604469.A.C90.html [爛雷] 曼谷淪陷 該改名叫錢包淪陷\n",
            " 4/03 https://www.ptt.cc/bbs/movie/M.1743611123.A.972.html [問片] 日本或韓國的殺手片？\n",
            " 4/03 https://www.ptt.cc/bbs/movie/M.1743619062.A.A01.html [普無雷] 一點也不負面的《寂寞拍賣師》\n",
            " 4/03 https://www.ptt.cc/bbs/movie/M.1743638650.A.203.html [情報] 馴龍高手真人版 第二部 2027/6/11\n",
            " 4/03 https://www.ptt.cc/bbs/movie/M.1743643918.A.518.html [情報] 北京故事(1986)特映會\n",
            " 4/03 https://www.ptt.cc/bbs/movie/M.1743645986.A.D9A.html [討論] 麥塊電影 爛番茄51%\n",
            " 4/03 https://www.ptt.cc/bbs/movie/M.1743646016.A.1B9.html [ 普雷]  藝伎回憶錄\n",
            " 4/03 https://www.ptt.cc/bbs/movie/M.1743646735.A.236.html [好無雷] 史蒂芬索德柏之黑袋行動:高冷特務懸疑片\n",
            " 4/03 https://www.ptt.cc/bbs/movie/M.1743647320.A.FDD.html Re: [ 普雷]  藝伎回憶錄\n",
            " 4/03 https://www.ptt.cc/bbs/movie/M.1743649900.A.77B.html [情報] 《佛萊迪餐館之五夜驚魂2》前導預告 \n",
            " 4/03 https://www.ptt.cc/bbs/movie/M.1743650821.A.580.html [請益] 沒玩過麥塊看麥塊電影還會好看嗎?\n",
            " 4/03 https://www.ptt.cc/bbs/movie/M.1743654567.A.DFD.html [好雷] 空人/軀殼/Empty man 被埋沒的克蘇魯電影\n",
            " 4/03 https://www.ptt.cc/bbs/movie/M.1743655927.A.E0D.html [情報] 2025新版《囍宴》預告\n",
            " 4/03 https://www.ptt.cc/bbs/movie/M.1743660387.A.46D.html [請益] 魔鬼終結者也開黃腔嗎？\n",
            " 4/03 https://www.ptt.cc/bbs/movie/M.1743662748.A.49F.html [負雷] 麥塊大電影\n",
            " 4/03 https://www.ptt.cc/bbs/movie/M.1743668209.A.D85.html [普好雷]青春末世物語：沒有用的年輕人啟蒙之旅\n",
            " 4/03 https://www.ptt.cc/bbs/movie/M.1743668476.A.E6D.html [請益] 請問minecraft電影適合低年級生看嗎？\n",
            " 4/03 https://www.ptt.cc/bbs/movie/M.1743675179.A.599.html [好雷] Minecraft 大電影\n"
          ]
        }
      ]
    },
    {
      "cell_type": "code",
      "source": [
        "def get_articles(url):\n",
        "  response=requests.get(url)\n",
        "  soup=BeautifulSoup(response.text,'lxml')\n",
        "  for atcl in soup.find_all('div',class_='r-ent'):\n",
        "    if atcl.find('div',class_='title').a:\n",
        "      ttle=atcl.find('div',class_='title').a.text\n",
        "      href='https://www.ptt.cc'+atcl.find('div',class_='title').a.get('href')\n",
        "    else:\n",
        "      ttle=atcl.find('div',class_='title').text.strip()\n",
        "      href=''\n",
        "    date=atcl.findttle=atcl.find('div',class_='date').text\n",
        "    print(date,href,ttle)\n",
        "  url='https://www.ptt.cc'+soup.find_all('a',class_='btn wide')[1].get('href')\n",
        "  return url\n",
        "\n",
        "url='https://www.ptt.cc/bbs/Food/index.html'\n",
        "for i in range(5):\n",
        "  url=get_articles(url)"
      ],
      "metadata": {
        "colab": {
          "base_uri": "https://localhost:8080/"
        },
        "id": "BtqOqzAnb7xv",
        "outputId": "cc989f37-9aa8-4cd3-a184-ab829163a668"
      },
      "execution_count": 6,
      "outputs": [
        {
          "output_type": "stream",
          "name": "stdout",
          "text": [
            " 4/06 https://www.ptt.cc/bbs/Food/M.1743915684.A.8F7.html [轉讓] 4/12（六）18:00 漢來島語 晚餐四位\n",
            " 4/06 https://www.ptt.cc/bbs/Food/M.1743917343.A.CD9.html [食記] 桃園中壢-小時厚牛排（中壢新生店）\n",
            " 4/06 https://www.ptt.cc/bbs/Food/M.1743920162.A.FF1.html [食記] 新竹小蒙牛吃飽|899元和牛海陸/哈根達斯\n",
            " 4/06 https://www.ptt.cc/bbs/Food/M.1743940942.A.7A0.html [食記] 虹橋機場SHA 東方航空 21米層貴賓室V21S 第二航廈\n",
            "12/16 https://www.ptt.cc/bbs/Food/M.1355673582.A.5F7.html [公告] Food板 板規 V3.91\n",
            " 9/28 https://www.ptt.cc/bbs/Food/M.1190944426.A.E6C.html [公告] 發文請在標題加上地區及提供地址電話。^^\n",
            "10/01 https://www.ptt.cc/bbs/Food/M.1128132666.A.0FD.html [公告] 文章被刪除者請洽精華區的資源回收桶\n",
            " 6/04 https://www.ptt.cc/bbs/Food/M.1496532469.A.C36.html [公告] 新增板規22：發文禁附延伸閱讀連結\n",
            " 4/03 https://www.ptt.cc/bbs/Food/M.1743690082.A.279.html [食記] 桃園。總裁家 溫體鮮羊肉料理\n",
            " 4/03 https://www.ptt.cc/bbs/Food/M.1743691988.A.39D.html [食記] 松山機場TSA 環亞機場貴賓室Plaza Premium Lounge  \n",
            " 4/04 https://www.ptt.cc/bbs/Food/M.1743731189.A.F30.html [食記] 雙葉海鮮魚麵 台北萬華 鮮Q香辣魚麵燕餃\n",
            " 4/04 https://www.ptt.cc/bbs/Food/M.1743740806.A.622.html [食記] 蘆洲添丁切仔麵\n",
            " 4/04 https://www.ptt.cc/bbs/Food/M.1743745431.A.711.html [食記] 有700多款啤酒的ABV地中海餐酒館-台中店\n",
            " 4/04 https://www.ptt.cc/bbs/Food/M.1743756340.A.12E.html [請益] 台中適合商務宴客的推薦\n",
            " 4/04 https://www.ptt.cc/bbs/Food/M.1743772536.A.484.html [食記] 大阪心齋橋 心斎橋焙煎所\n",
            " 4/04 https://www.ptt.cc/bbs/Food/M.1743781743.A.87F.html [食記] 台中 發愣吃 \n",
            " 4/05 https://www.ptt.cc/bbs/Food/M.1743783599.A.809.html [食記] 長榮航空BR113 OKA沖繩-TPE台北 A321-200\n",
            " 4/05 https://www.ptt.cc/bbs/Food/M.1743824010.A.7C4.html [廣宣] 公館 義樂麵屋 套餐送蛋糕\n",
            " 4/05 https://www.ptt.cc/bbs/Food/M.1743824429.A.317.html [食記] 台北 中山區｜滿滿厝台式創意料理餐廳\n",
            " 4/05 https://www.ptt.cc/bbs/Food/M.1743835937.A.286.html [食記] 三重稅捐處豆花 新北三重 檸檬粉粿豆花\n",
            " 4/05 https://www.ptt.cc/bbs/Food/M.1743861561.A.7B2.html [食記] 長榮航空BR132 TPE台北-KIX大阪關西 787-10\n",
            " 4/05 https://www.ptt.cc/bbs/Food/M.1743862762.A.A98.html [食記] 宜蘭 藍秋\n",
            " 4/05 https://www.ptt.cc/bbs/Food/M.1743864098.A.908.html [食記] 桃園平鎮區。餓了台式丼飯\n",
            " 4/05 https://www.ptt.cc/bbs/Food/M.1743868439.A.4FE.html [食記] 宮崎市區 炭烤地雞 丸万焼鳥　本店\n",
            " 4/06 https://www.ptt.cc/bbs/Food/M.1743871461.A.1BE.html [食記] 台北大安:莆田/季樂鐵板燒/肉的長谷川\n",
            " 4/06 https://www.ptt.cc/bbs/Food/M.1743907280.A.9EF.html [食記] 新北 板橋 麗華咖啡屋 低調復古咖啡店\n",
            " 4/06 https://www.ptt.cc/bbs/Food/M.1743915383.A.30F.html [食記] 小舍河粉 新竹竹北 鍋氣牛肉粿條芙蓉豆腐\n",
            " 4/06 https://www.ptt.cc/bbs/Food/M.1743915484.A.EB4.html [食記] 【花蓮美食】花蓮玉里橋頭臭豆腐\n",
            " 4/01 https://www.ptt.cc/bbs/Food/M.1743481461.A.028.html [食記] 福岡天神 壽司郎 初代軌道運送有點狼狽\n",
            " 4/01 https://www.ptt.cc/bbs/Food/M.1743483875.A.28C.html [食記] Onigiri Bongo 日本東京 明太子起司飯糰\n",
            " 4/01 https://www.ptt.cc/bbs/Food/M.1743499301.A.1F1.html [食記] 瑞典 斯德哥爾摩 Letiz Gelato\n",
            " 4/01 https://www.ptt.cc/bbs/Food/M.1743501336.A.633.html [徵人]5/18 晚餐 京都一子相伝なかむら餐廳一位\n",
            " 4/01 https://www.ptt.cc/bbs/Food/M.1743516109.A.2A8.html [食記] 桃園八德區。福鼎肉片湯\n",
            " 4/01 https://www.ptt.cc/bbs/Food/M.1743517689.A.48A.html [食記] 台北 你家樓下\n",
            " 4/01 https://www.ptt.cc/bbs/Food/M.1743520204.A.359.html [食記] 台北 徹思叔叔的咖啡廳(即將暫停營業)\n",
            " 4/02 https://www.ptt.cc/bbs/Food/M.1743526209.A.665.html [食記] 花蓮 慶修院馬告香腸 也太好吃了\n",
            " 4/02 https://www.ptt.cc/bbs/Food/M.1743526720.A.F74.html [食記] 新北新店：七張大骨麵/老楊麵線/歐爸\n",
            " 4/02 https://www.ptt.cc/bbs/Food/M.1743562105.A.69E.html [食記] 小泉海產店 基隆中山 桑椹排骨及鮮美海鮮\n",
            " 4/02 https://www.ptt.cc/bbs/Food/M.1743586505.A.14A.html [食記] 忠孝復興-雞湯人生\n",
            " 4/02 https://www.ptt.cc/bbs/Food/M.1743588429.A.A7E.html [食記] 台北大安 苗妞串串香麻辣鍋\n",
            " 4/02 https://www.ptt.cc/bbs/Food/M.1743602616.A.239.html [食記] 台北 A Cut：依舊美妙的生日餐\n",
            " 4/02 https://www.ptt.cc/bbs/Food/M.1743604052.A.A09.html [食記] 日本 長崎 勝鹿豬排\n",
            " 4/02 https://www.ptt.cc/bbs/Food/M.1743604559.A.807.html [食記] 林口 三井outlet二期-京昌園燒肉 \n",
            " 4/02 https://www.ptt.cc/bbs/Food/M.1743606182.A.3B8.html [食記] 台北南港 玉虫画室\n",
            " 4/03 https://www.ptt.cc/bbs/Food/M.1743625047.A.3FC.html [廣宣] 中西北區美食 王丼烤肉飯（篤行店）\n",
            " 4/03 https://www.ptt.cc/bbs/Food/M.1743644203.A.540.html [食記] 超豚骨濃度8 日本大阪 豚骨拉麵+石鍋拌飯\n",
            " 4/03 https://www.ptt.cc/bbs/Food/M.1743670370.A.809.html [食記] 瑞典 斯德哥爾摩 Kajsas Fisk\n",
            " 4/03 https://www.ptt.cc/bbs/Food/M.1743689538.A.8D6.html [食記] 台北 鄭記豬腳飯\n",
            " 3/30 https://www.ptt.cc/bbs/Food/M.1743319033.A.85B.html [請益] 台北藍線8人家族聚餐\n",
            " 3/30 https://www.ptt.cc/bbs/Food/M.1743329615.A.867.html [食記] 京都出町柳 COYOTE Roastery\n",
            " 3/30 https://www.ptt.cc/bbs/Food/M.1743344370.A.204.html [食記] 桃園中壢區。豐味食堂\n",
            " 3/30 https://www.ptt.cc/bbs/Food/M.1743345355.A.090.html [食記] 京都五条 LORIMER KYOTO 烤魚早餐\n",
            " 3/30 https://www.ptt.cc/bbs/Food/M.1743346687.A.74A.html [食記] 日本 福岡 小倉 一平本店\n",
            " 3/31 https://www.ptt.cc/bbs/Food/M.1743351091.A.5BA.html [食記] 台北101鼎泰豐\n",
            " 3/31 https://www.ptt.cc/bbs/Food/M.1743351356.A.5E6.html [食記] 法國尼斯 Kiosque tintin 吃尼斯三明治\n",
            " 3/31 https://www.ptt.cc/bbs/Food/M.1743351484.A.16E.html [食記] 台北大同 慈音古早味阿婆飯糰 神奇的排隊店\n",
            " 3/31 https://www.ptt.cc/bbs/Food/M.1743359473.A.035.html [食記] 瑞典 斯德哥爾摩 Herno Gin Bar\n",
            " 3/31 https://www.ptt.cc/bbs/Food/M.1743394382.A.4C8.html [食記] 新竹 阿瑛潤餅（仁德街口無名潤餅）\n",
            " 3/31 https://www.ptt.cc/bbs/Food/M.1743406110.A.DEA.html [食記] 台南UNOS CAF줠甜點與咖啡的極致享受\n",
            " 3/31 https://www.ptt.cc/bbs/Food/M.1743415376.A.40E.html [食記] 北港鼎太香菇肉羹 新北新莊 肉羹及滷肉飯\n",
            " 3/31 https://www.ptt.cc/bbs/Food/M.1743424850.A.DE1.html [食記] Monday不blue！∥板橋∥松江街∥旧宅在 \n",
            " 3/31 https://www.ptt.cc/bbs/Food/M.1743426274.A.0B1.html [食記] 彰化 八卦山下燒肉圓\n",
            " 3/31 https://www.ptt.cc/bbs/Food/M.1743428942.A.DAC.html [食記] 香港 蛇王熙\n",
            " 3/31 https://www.ptt.cc/bbs/Food/M.1743432162.A.676.html [食記] 新北 THE PIZZA 惹披薩輔大店披薩吃到飽\n",
            " 3/31 https://www.ptt.cc/bbs/Food/M.1743434591.A.6BC.html [食記] 台北大安 77opèt Restaurant\n",
            " 4/01 https://www.ptt.cc/bbs/Food/M.1743477233.A.985.html [食記] 台南建築美學與美味的巷弄走走Cafe\n",
            " 4/01 https://www.ptt.cc/bbs/Food/M.1743477442.A.265.html [食記] 台南有邑家手作腸粉與咖啡的完美邂\n",
            " 4/01 https://www.ptt.cc/bbs/Food/M.1743477688.A.BC8.html [食記] 中壢 超夯現炸脆皮肉圓\n",
            " 3/27 https://www.ptt.cc/bbs/Food/M.1743055596.A.E75.html [食記] 內湖環山路上Le Mani 琢手咖啡 \n",
            " 3/27 https://www.ptt.cc/bbs/Food/M.1743063492.A.ACC.html [食記] 台北士林—忠義街蘿蔔絲餅｜傳承二代人氣銅板下午茶\n",
            " 3/27 https://www.ptt.cc/bbs/Food/M.1743084000.A.5DA.html [食記] 日本 長崎 雲龍亭 (銅座店)\n",
            " 3/27 https://www.ptt.cc/bbs/Food/M.1743084559.A.AD5.html [食記] 桃園。頭頓煎蝦餅\n",
            " 3/27 https://www.ptt.cc/bbs/Food/M.1743091195.A.FD4.html [食記] 日本福岡 水炊料亭 博多華味鳥 天神店\n",
            " 3/28 https://www.ptt.cc/bbs/Food/M.1743128568.A.1F7.html [廣宣] 台北 新開幕的日式炙燒鴨肉專門店-鴨箱\n",
            " 3/28 https://www.ptt.cc/bbs/Food/M.1743130667.A.9FC.html [食記] 香港旺角 金華冰廳 美味菠蘿油邪惡西多士\n",
            " 3/28 https://www.ptt.cc/bbs/Food/M.1743133621.A.537.html [食記] 社子魚丸 台北士林 魚丸配辣高麗菜冬粉湯\n",
            " 3/28 https://www.ptt.cc/bbs/Food/M.1743156437.A.E3D.html [食記] 新竹素食|田土山。藏身市區無菜單料理\n",
            " 3/28 https://www.ptt.cc/bbs/Food/M.1743156669.A.27D.html [食記] 桃園平鎮區。巧御食光\n",
            " 3/28 https://www.ptt.cc/bbs/Food/M.1743170470.A.833.html [食記] 香港 新桂香燒臘\n",
            " 3/29 https://www.ptt.cc/bbs/Food/M.1743224109.A.144.html [食記] 宜蘭 大成 羊排麵牛肉麵\n",
            " 3/29 https://www.ptt.cc/bbs/Food/M.1743243245.A.229.html [食記] 捷克 帝國咖啡廳 世界最美十大咖啡廳\n",
            " 3/29 https://www.ptt.cc/bbs/Food/M.1743246299.A.234.html [食記] 台中 西區｜迴香印度餐廳 Savory Curry\n",
            " 3/29 https://www.ptt.cc/bbs/Food/M.1743250396.A.653.html [食記] 新北板橋 谷藺 x Sweet Bites Lab\n",
            " 3/29 https://www.ptt.cc/bbs/Food/M.1743260620.A.873.html [食記] 懷舊中卷麵線 桃園龜山 中卷大腸肉羹麵線\n",
            " 3/30 https://www.ptt.cc/bbs/Food/M.1743266351.A.739.html [食記] 法國尼斯 Chez Pipo尼斯洋蔥塔鷹嘴豆煎餅\n",
            " 3/30 https://www.ptt.cc/bbs/Food/M.1743302590.A.408.html [食記] 微香 新竹竹北 香濃青醬豬肉水管義大利麵\n",
            " 3/30 https://www.ptt.cc/bbs/Food/M.1743305782.A.B75.html [食記] 泰國佛統府 Manpai Sainam Cafe\n",
            " 3/30 https://www.ptt.cc/bbs/Food/M.1743310289.A.717.html [食記] 嘉義東區—羅山生炒鱔魚麵｜炭燒味生炒鱔魚麵只賣四小時\n"
          ]
        }
      ]
    },
    {
      "cell_type": "code",
      "source": [
        "def get_articles(url):\n",
        "  response=requests.get(url)\n",
        "  soup=BeautifulSoup(response.text,'lxml')\n",
        "  for atcl in soup.find_all('div',class_='r-ent'):\n",
        "    if atcl.find('div',class_='title').a:\n",
        "      ttle=atcl.find('div',class_='title').a.text\n",
        "      href='https://www.ptt.cc'+atcl.find('div',class_='title').a.get('href')\n",
        "    else:\n",
        "      ttle=atcl.find('div',class_='title').text.strip()\n",
        "      href=''\n",
        "    date=atcl.findttle=atcl.find('div',class_='date').text\n",
        "    print(date,href,ttle)\n",
        "  url='https://www.ptt.cc'+soup.find_all('a',class_='btn wide')[1].get('href')\n",
        "  return url\n",
        "\n",
        "url='https://www.ptt.cc/bbs/Gossiping/index.html'\n",
        "for i in range(5):\n",
        "  url=get_articles(url)"
      ],
      "metadata": {
        "colab": {
          "base_uri": "https://localhost:8080/"
        },
        "id": "Nrt1h5dPcFUA",
        "outputId": "024adae8-13c7-4fc1-fd82-7a2141b2aa61"
      },
      "execution_count": 7,
      "outputs": [
        {
          "output_type": "stream",
          "name": "stdout",
          "text": [
            " 4/06 https://www.ptt.cc/bbs/Gossiping/M.1743948622.A.77A.html [問卦] 蔡依林新專輯一張賣多少合理？\n",
            " 4/06 https://www.ptt.cc/bbs/Gossiping/M.1743948670.A.D0B.html [問卦] 去過喪家要挑哪去逛一逛  才回家\n",
            " 4/06 https://www.ptt.cc/bbs/Gossiping/M.1743948674.A.DC5.html [問卦] 可派人拿聖經這段經文去跟川普談判\n",
            " 4/06 https://www.ptt.cc/bbs/Gossiping/M.1743948716.A.455.html [問卦] 突然想到 集合全國人一起買進不就不會跌\n",
            " 4/06 https://www.ptt.cc/bbs/Gossiping/M.1743948716.A.EAB.html Re: [新聞] 談判小組成立 賴清德喊免驚：台、美\n",
            "11/02 https://www.ptt.cc/bbs/Gossiping/M.1730554547.A.41C.html Fw: [公告] 請留意新註冊帳號使用信件詐騙\n",
            " 1/21 https://www.ptt.cc/bbs/Gossiping/M.1737398137.A.644.html [公告] 八卦板板規(2025.01.21)\n",
            " 3/12 https://www.ptt.cc/bbs/Gossiping/M.1741791500.A.EB6.html Fw: [公告] 請避免與登入1次之帳號進行交易 發錢\n",
            " 4/05 https://www.ptt.cc/bbs/Gossiping/M.1743833739.A.260.html [公告] 八卦板主投票請按V開始 &手機投票  \n",
            " 4/06 https://www.ptt.cc/bbs/Gossiping/M.1743920492.A.0DB.html [公告] 壹蘋未確實查證警告，禁發記者魏盈盈新聞\n",
            " 4/06 https://www.ptt.cc/bbs/Gossiping/M.1743947889.A.BD0.html Re: [問卦] 最新對策就是台灣對美降到0關稅 你ok嗎\n",
            " 4/06 https://www.ptt.cc/bbs/Gossiping/M.1743947890.A.0E6.html [問卦] 環保吹   會得性病嗎？\n",
            " 4/06 https://www.ptt.cc/bbs/Gossiping/M.1743947919.A.63B.html [問卦] 美國人過的都很富裕嗎？\n",
            " 4/06 https://www.ptt.cc/bbs/Gossiping/M.1743947982.A.19C.html [新聞] 學長是壞人！陸官4年級學長猥褻大一菜鳥\n",
            " 4/06 https://www.ptt.cc/bbs/Gossiping/M.1743948001.A.A30.html Re: [新聞] 因應關稅戰祭5策略！賴清德：組台灣投資\n",
            " 4/06 https://www.ptt.cc/bbs/Gossiping/M.1743948004.A.DAF.html Re: [問卦] 跪舔美國沒用怎麼辦？\n",
            " 4/06 https://www.ptt.cc/bbs/Gossiping/M.1743948065.A.766.html [問卦] 我們跪舔不到美國的爽處怎麼辦？\n",
            " 4/06 https://www.ptt.cc/bbs/Gossiping/M.1743948074.A.E92.html [問卦] 掃墓掃到第幾代就沒人會掃了\n",
            " 4/06 https://www.ptt.cc/bbs/Gossiping/M.1743948087.A.48D.html [問卦] 台灣、越南、柬埔寨、辛巴威在助紂為虐吧\n",
            " 4/06 https://www.ptt.cc/bbs/Gossiping/M.1743948158.A.EA4.html [問卦] 民視三立的留言區都好平和樂觀的八卦??\n",
            " 4/06 https://www.ptt.cc/bbs/Gossiping/M.1743948234.A.5E9.html [新聞] 索馬利蘭醫院不做CPR？醫師來台受訓改變\n",
            " 4/06 https://www.ptt.cc/bbs/Gossiping/M.1743948243.A.43D.html [問卦] 要怎麼跟清明連假說再見呢？\n",
            " 4/06 https://www.ptt.cc/bbs/Gossiping/M.1743948337.A.80D.html [問卦] 這腿排串一串100元你可以？☺ \n",
            " 4/06 https://www.ptt.cc/bbs/Gossiping/M.1743948373.A.BC0.html [問卦] 現在還有人相信美國總統旁有專業團隊嗎\n",
            " 4/06 https://www.ptt.cc/bbs/Gossiping/M.1743948378.A.4B6.html Re: [問卦] 民主思想最好笑的是什麼？\n",
            " 4/06 https://www.ptt.cc/bbs/Gossiping/M.1743948434.A.F84.html [問卦] ㄟ 一開始就把台積電送出去 現在要談判啥\n",
            " 4/06 https://www.ptt.cc/bbs/Gossiping/M.1743948455.A.72B.html [問卦] 明天台股緩跌甚至小漲的機率？\n",
            " 4/06 https://www.ptt.cc/bbs/Gossiping/M.1743948517.A.957.html Re: [問卦] 以色列屠殺15名加薩消防、救護人員\n",
            " 4/06 https://www.ptt.cc/bbs/Gossiping/M.1743948567.A.711.html [問卦] 把車停在別人門口是不是沒被打過？\n",
            " 4/06 https://www.ptt.cc/bbs/Gossiping/M.1743948589.A.803.html [問卦] 許純美當初是如何被小白臉吃乾抹淨的卦\n",
            " 4/06 https://www.ptt.cc/bbs/Gossiping/M.1743947112.A.1F7.html [問卦] 「聽君一席話 如聽一席話」 會想到誰？\n",
            " 4/06 https://www.ptt.cc/bbs/Gossiping/M.1743947131.A.D93.html [問卦] 台灣什麼音樂最頂？\n",
            " 4/06 https://www.ptt.cc/bbs/Gossiping/M.1743947157.A.25E.html [問卦] 不怕戰爭的人 會怕股市爆跌嗎\n",
            " 4/06 https://www.ptt.cc/bbs/Gossiping/M.1743947199.A.C7C.html [問卦] 自己爛又愛牽拖別人\n",
            " 4/06 https://www.ptt.cc/bbs/Gossiping/M.1743947231.A.072.html [問卦] 跪舔美國沒用怎麼辦？\n",
            " 4/06 https://www.ptt.cc/bbs/Gossiping/M.1743947236.A.E57.html [新聞] 因應關稅戰祭5策略！賴清德：組台灣投資美國隊\n",
            " 4/06 https://www.ptt.cc/bbs/Gossiping/M.1743947283.A.EF7.html Re: [新聞] 幕後》賴總統5大對策因應美關稅戰 府院10\n",
            " 4/06 https://www.ptt.cc/bbs/Gossiping/M.1743947322.A.BE9.html [問卦] 0關稅但進口商不降價川普會氣瘋嗎？\n",
            " 4/06 https://www.ptt.cc/bbs/Gossiping/M.1743947348.A.FE9.html [問卦] 普發1萬拿來就有1300億可增援對吧\n",
            " 4/06 https://www.ptt.cc/bbs/Gossiping/M.1743947359.A.05C.html Re: [問卦] 節儉生活的主題會開始大流行嗎\n",
            " 4/06 https://www.ptt.cc/bbs/Gossiping/M.1743947359.A.A44.html [問卦] 掃墓時 看到有人在喊おきろ?\n",
            " 4/06 https://www.ptt.cc/bbs/Gossiping/M.1743947393.A.A35.html [問卦] 為什麼印度人比黑人還惹人嫌？\n",
            " 4/06 https://www.ptt.cc/bbs/Gossiping/M.1743947532.A.80B.html [問卦] 增加稅收補助傳產大家說好嗎？\n",
            " 4/06 https://www.ptt.cc/bbs/Gossiping/M.1743947544.A.018.html [問卦] EXCEL 達人月薪可以多少？！？？？？？\n",
            " 4/06 https://www.ptt.cc/bbs/Gossiping/M.1743947548.A.721.html [問卦] 為啥美國人欺負台灣人都沒人敢站出來?\n",
            " 4/06 https://www.ptt.cc/bbs/Gossiping/M.1743947563.A.810.html [問卦] 所以我們到底做了什麼準備\n",
            " 4/06 https://www.ptt.cc/bbs/Gossiping/M.1743947584.A.EA7.html Re: [問卦] 八卦板從什麼時候開始變成網路一條龍 現\n",
            " 4/06 https://www.ptt.cc/bbs/Gossiping/M.1743947614.A.D8A.html [問卦] 灌籃高手三王之戰應該三井拯救的吧\n",
            " 4/06 https://www.ptt.cc/bbs/Gossiping/M.1743947635.A.A5C.html [新聞] 女優宣布引退「皈依伊斯蘭教」！曾演《AV\n",
            " 4/06 https://www.ptt.cc/bbs/Gossiping/M.1743947835.A.062.html [問卦] 關稅降低為0，是Z還是B？\n",
            " 4/06 https://www.ptt.cc/bbs/Gossiping/M.1743946551.A.3F9.html [問卦] 是時候請台灣特級咒術師出動了吧\n",
            " 4/06 https://www.ptt.cc/bbs/Gossiping/M.1743946556.A.107.html [新聞]埃及年底將安裝核電反應爐容器 成全球最大\n",
            " 4/06 https://www.ptt.cc/bbs/Gossiping/M.1743946590.A.537.html [問卦] 企鵝妹是招誰惹誰？\n",
            " 4/06 https://www.ptt.cc/bbs/Gossiping/M.1743946639.A.59B.html [問卦] 為啥老闆都會把廢物當戰將R〓〓\n",
            " 4/06  (本文已被刪除) [sha09876]\n",
            " 4/06 https://www.ptt.cc/bbs/Gossiping/M.1743946648.A.488.html [問卦] 美國下一步絕對是要你放棄美債！\n",
            " 4/06 https://www.ptt.cc/bbs/Gossiping/M.1743946649.A.BB0.html [問卦] 如果這是策略遊戲，台灣接下來應該怎麼出\n",
            " 4/06 https://www.ptt.cc/bbs/Gossiping/M.1743946702.A.70E.html Re: [新聞] 快訊／賴清德下令擴大對美採購！軍方已列\n",
            " 4/06 https://www.ptt.cc/bbs/Gossiping/M.1743946704.A.6EE.html [問卦] 對美關稅我比日本、韓國高\n",
            " 4/06 https://www.ptt.cc/bbs/Gossiping/M.1743946803.A.751.html [問卦] 我賠掉的錢錢 跑去哪裡了 有人知道嗎@@?\n",
            " 4/06 https://www.ptt.cc/bbs/Gossiping/M.1743946850.A.941.html [問卦] AIT 注意 !? 0關稅X 0關稅壁壘O\n",
            " 4/06 https://www.ptt.cc/bbs/Gossiping/M.1743946913.A.6A7.html [問卦] 冥想根本沒有最CP值的時間？\n",
            " 4/06 https://www.ptt.cc/bbs/Gossiping/M.1743946927.A.CD4.html [問卦] 學歷只有高中的部長會用word嗎?\n",
            " 4/06 https://www.ptt.cc/bbs/Gossiping/M.1743947007.A.0DC.html [問卦] 被強姦還說歡迎再來？\n",
            " 4/06 https://www.ptt.cc/bbs/Gossiping/M.1743947017.A.CFE.html Re: [新聞] 快訊／賴清德下令擴大對美採購！軍方已\n",
            " 4/06 https://www.ptt.cc/bbs/Gossiping/M.1743947033.A.984.html [問卦] 誰偷賣晶片也講的太明顯了吧？不會被吉\n",
            " 4/06 https://www.ptt.cc/bbs/Gossiping/M.1743947037.A.CE9.html [問卦] 怕癢不怕癢 \n",
            " 4/06 https://www.ptt.cc/bbs/Gossiping/M.1743947053.A.A3B.html [問卦] 民主思想最好笑的是什麼？\n",
            " 4/06 https://www.ptt.cc/bbs/Gossiping/M.1743947060.A.25E.html [新聞] 黑絲OL超香 林襄上班族前凸後翹造型網暴\n",
            " 4/06 https://www.ptt.cc/bbs/Gossiping/M.1743947065.A.5F7.html Re: [問卦] 妹子很正但奶頭是黑的你可以嗎\n",
            " 4/06 https://www.ptt.cc/bbs/Gossiping/M.1743945918.A.27A.html [問卦] 朋友說有40%的人明天會把股市買上去?\n",
            " 4/06 https://www.ptt.cc/bbs/Gossiping/M.1743945977.A.680.html [問卦] 三萬可以歐印哪檔?\n",
            " 4/06 https://www.ptt.cc/bbs/Gossiping/M.1743946009.A.820.html [問卦] 爸爸跟兒子要東西 兒子跪著雙手\n",
            " 4/06 https://www.ptt.cc/bbs/Gossiping/M.1743946027.A.2DF.html [問卦] 節儉生活的主題會開始大流行嗎\n",
            " 4/06 https://www.ptt.cc/bbs/Gossiping/M.1743946082.A.B95.html Re: [問卦] 問大家下週一這樣不會被斷頭了嗎？\n",
            " 4/06 https://www.ptt.cc/bbs/Gossiping/M.1743946084.A.82F.html [新聞] 證交所週一罕見開盤前要信心喊話 宣布\n",
            " 4/06 https://www.ptt.cc/bbs/Gossiping/M.1743946092.A.CB6.html [問卦] 關稅根本就是圖利吧\n",
            " 4/06 https://www.ptt.cc/bbs/Gossiping/M.1743946137.A.765.html [問卦] 對美零關稅是不是對臺灣平民有好處？\n",
            " 4/06 https://www.ptt.cc/bbs/Gossiping/M.1743946158.A.FE8.html [問卦] 明天禮拜一要發什麼圖安慰朋友？\n",
            " 4/06 https://www.ptt.cc/bbs/Gossiping/M.1743946163.A.53A.html [問卦] 美方可能要求台灣對中國提高關稅\n",
            " 4/06 https://www.ptt.cc/bbs/Gossiping/M.1743946299.A.0D0.html [問卦] 現在日本的頂尖大學這麼難申請嗎?\n",
            " 4/06 https://www.ptt.cc/bbs/Gossiping/M.1743946345.A.67D.html Re: [問卦] 怎麼樣才叫賣台？\n",
            " 4/06 https://www.ptt.cc/bbs/Gossiping/M.1743946410.A.63B.html [問卦] 要有多大的功德才能提前避開股災?\n",
            " 4/06 https://www.ptt.cc/bbs/Gossiping/M.1743946437.A.3C5.html [問卦] 明天要去228公園還是去大安森林公園\n",
            " 4/06 https://www.ptt.cc/bbs/Gossiping/M.1743946455.A.C56.html Re: [新聞] 快訊／賴清德下令擴大對美採購！軍方已列\n",
            " 4/06 https://www.ptt.cc/bbs/Gossiping/M.1743946462.A.F52.html [問卦] 有沒有牛津大學辯論比賽的八卦?\n",
            " 4/06 https://www.ptt.cc/bbs/Gossiping/M.1743946484.A.700.html [問卦] 被關稅保護產業的員工有多爽？\n",
            " 4/06 https://www.ptt.cc/bbs/Gossiping/M.1743946498.A.CB5.html [新聞] 林志玲最強凍齡！50歲甜曬棒棒糖 網驚呼：根本少女\n",
            " 4/06 https://www.ptt.cc/bbs/Gossiping/M.1743946534.A.43F.html [問卦] 台灣是怎麼養出一個世代的舔狗？\n",
            " 4/06 https://www.ptt.cc/bbs/Gossiping/M.1743946551.A.A03.html [新聞] 幕後》賴總統5大對策因應美關稅戰 府院10\n"
          ]
        }
      ]
    }
  ]
}