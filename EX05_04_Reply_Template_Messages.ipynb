{
  "nbformat": 4,
  "nbformat_minor": 0,
  "metadata": {
    "colab": {
      "provenance": [],
      "authorship_tag": "ABX9TyORCUIU9eBdmhz3KfZ//JZf",
      "include_colab_link": true
    },
    "kernelspec": {
      "name": "python3",
      "display_name": "Python 3"
    },
    "language_info": {
      "name": "python"
    }
  },
  "cells": [
    {
      "cell_type": "markdown",
      "metadata": {
        "id": "view-in-github",
        "colab_type": "text"
      },
      "source": [
        "<a href=\"https://colab.research.google.com/github/aobd1356/Homework/blob/main/EX05_04_Reply_Template_Messages.ipynb\" target=\"_parent\"><img src=\"https://colab.research.google.com/assets/colab-badge.svg\" alt=\"Open In Colab\"/></a>"
      ]
    },
    {
      "cell_type": "code",
      "execution_count": 3,
      "metadata": {
        "id": "D1fV2FTFWOpM"
      },
      "outputs": [],
      "source": [
        "!pip install -q pyngrok flask_ngrok # for colab\n",
        "!pip install -q flask line-bot-sdk"
      ]
    },
    {
      "cell_type": "code",
      "source": [
        "# for colab\n",
        "from google.colab import userdata\n",
        "from pyngrok import ngrok\n",
        "from flask_ngrok import run_with_ngrok\n",
        "def ngrok_start():\n",
        "    ngrok.set_auth_token(userdata.get('NGROK_AUTHTOKEN'))\n",
        "    ngrok.connect(5000)\n",
        "    run_with_ngrok(app)\n",
        "\n",
        "from flask import Flask, request, abort\n",
        "\n",
        "from linebot.v3 import WebhookHandler\n",
        "from linebot.v3.exceptions import InvalidSignatureError\n",
        "from linebot.v3.webhooks import MessageEvent, TextMessageContent\n",
        "from linebot.v3.messaging import (\n",
        "    Configuration, ApiClient, MessagingApi,\n",
        "    ReplyMessageRequest,\n",
        "    TextMessage,\n",
        "    TemplateMessage, ConfirmTemplate, MessageAction,\n",
        "    CarouselTemplate,\n",
        "    CarouselColumn,\n",
        "    URIAction,\n",
        "    PostbackAction\n",
        ")\n",
        "\n",
        "app = Flask(__name__)\n",
        "\n",
        "configuration = Configuration(access_token=userdata.get('access_token'))\n",
        "handler = WebhookHandler(userdata.get('Channel_secret'))\n",
        "\n",
        "@app.route(\"/callback\", methods=['POST'])\n",
        "def callback():\n",
        "    signature = request.headers['X-Line-Signature']\n",
        "    body = request.get_data(as_text=True)\n",
        "    try:\n",
        "        handler.handle(body, signature)\n",
        "    except InvalidSignatureError:\n",
        "        abort(400)\n",
        "    return 'OK'\n",
        "\n",
        "\n",
        "@handler.add(MessageEvent, message=TextMessageContent)\n",
        "def handle_message(event):\n",
        "    with ApiClient(configuration) as api_client:\n",
        "        line_bot_api = MessagingApi(api_client)\n",
        "\n",
        "        action=event.message.text\n",
        "        if action==\"confirm\":\n",
        "              template=ConfirmTemplate(\n",
        "                  text=\"你喜歡Bang Dream嗎？\",\n",
        "                  actions=[\n",
        "                      MessageAction(label=\"是\", text=\"我很喜歡\"),\n",
        "                      MessageAction(label=\"否\", text=\"其實我超級喜歡\")\n",
        "                  ]\n",
        "              )\n",
        "              reply=TemplateMessage(\n",
        "              alt_text=\"這是確認視窗\",\n",
        "              template=template\n",
        "          )\n",
        "        elif action=='carousel':\n",
        "          carousel_template=CarouselTemplate(\n",
        "                columns=[\n",
        "                  CarouselColumn(\n",
        "                    thumbnail_image_url='https://zh.wikipedia.org/zh-tw/%E6%A8%B1%E5%B7%AB%E5%A5%B3#/media/File:%E6%AB%BB%E5%B7%AB%E5%A5%B3.png',\n",
        "                    title='櫻巫女',\n",
        "                    text='日本vtuber',\n",
        "                    actions=[\n",
        "                        URIAction(label='維基百科', uri='https://zh.wikipedia.org/zh-tw/%E6%A8%B1%E5%B7%AB%E5%A5%B3'),\n",
        "                        URIAction(label='YOUTUBE', uri='https://www.youtube.com/@SakuraMiko'),\n",
        "                        MessageAction(label=\"投票\",text=\"我比較喜歡櫻巫女\")\n",
        "                    ]\n",
        "                  ),\n",
        "                  CarouselColumn(\n",
        "                    thumbnail_image_url='https://zh.wikipedia.org/wiki/%E6%98%9F%E8%A1%97%E5%BD%97%E6%98%9F#/media/File:%E6%98%9F%E8%A1%97%E5%BD%97%E6%98%9F.png',\n",
        "                    title='星街彗星',\n",
        "                    text='日本vtuber',\n",
        "                    actions=[\n",
        "                        URIAction(label='維基百科', uri='https://zh.wikipedia.org/wiki/%E6%98%9F%E8%A1%97%E5%BD%97%E6%98%9F'),\n",
        "                        URIAction(label='YOUTUBE', uri='https://www.youtube.com/@HoshimachiSuisei'),\n",
        "                        MessageAction(label=\"投票\",text=\"我比較喜歡星街彗星\")\n",
        "                    ]\n",
        "                  )\n",
        "                ]\n",
        "          )\n",
        "          reply=TemplateMessage(\n",
        "              alt_text=\"這是輪播視窗\",\n",
        "              template=carousel_template\n",
        "              )\n",
        "        else:\n",
        "          reply=Textmessage(text=event.message.text)\n",
        "\n",
        "        line_bot_api.reply_message(\n",
        "            ReplyMessageRequest(\n",
        "                reply_token=event.reply_token,\n",
        "                messages=[\n",
        "                    reply\n",
        "                ]\n",
        "            )\n",
        "        )\n",
        "\n",
        "\n",
        "\n",
        "ngrok_start() # for colab\n",
        "if __name__ == \"__main__\":\n",
        "    app.run()"
      ],
      "metadata": {
        "colab": {
          "base_uri": "https://localhost:8080/"
        },
        "id": "YTH6qJigWfVb",
        "outputId": "756ae93c-35ad-490d-d980-fe6cc24d3d8d"
      },
      "execution_count": 5,
      "outputs": [
        {
          "output_type": "stream",
          "name": "stdout",
          "text": [
            " * Serving Flask app '__main__'\n",
            " * Debug mode: off\n"
          ]
        },
        {
          "output_type": "stream",
          "name": "stderr",
          "text": [
            "INFO:werkzeug:\u001b[31m\u001b[1mWARNING: This is a development server. Do not use it in a production deployment. Use a production WSGI server instead.\u001b[0m\n",
            " * Running on http://127.0.0.1:5000\n",
            "INFO:werkzeug:\u001b[33mPress CTRL+C to quit\u001b[0m\n"
          ]
        },
        {
          "output_type": "stream",
          "name": "stdout",
          "text": [
            " * Running on http://06ac-34-133-215-196.ngrok-free.app\n",
            " * Traffic stats available on http://127.0.0.1:4040\n"
          ]
        },
        {
          "output_type": "stream",
          "name": "stderr",
          "text": [
            "INFO:werkzeug:127.0.0.1 - - [13/May/2025 07:48:17] \"POST /callback HTTP/1.1\" 200 -\n",
            "INFO:werkzeug:127.0.0.1 - - [13/May/2025 07:48:53] \"POST /callback HTTP/1.1\" 200 -\n",
            "ERROR:__main__:Exception on /callback [POST]\n",
            "Traceback (most recent call last):\n",
            "  File \"/usr/local/lib/python3.11/dist-packages/flask/app.py\", line 1511, in wsgi_app\n",
            "    response = self.full_dispatch_request()\n",
            "               ^^^^^^^^^^^^^^^^^^^^^^^^^^^^\n",
            "  File \"/usr/local/lib/python3.11/dist-packages/flask/app.py\", line 919, in full_dispatch_request\n",
            "    rv = self.handle_user_exception(e)\n",
            "         ^^^^^^^^^^^^^^^^^^^^^^^^^^^^^\n",
            "  File \"/usr/local/lib/python3.11/dist-packages/flask/app.py\", line 917, in full_dispatch_request\n",
            "    rv = self.dispatch_request()\n",
            "         ^^^^^^^^^^^^^^^^^^^^^^^\n",
            "  File \"/usr/local/lib/python3.11/dist-packages/flask/app.py\", line 902, in dispatch_request\n",
            "    return self.ensure_sync(self.view_functions[rule.endpoint])(**view_args)  # type: ignore[no-any-return]\n",
            "           ^^^^^^^^^^^^^^^^^^^^^^^^^^^^^^^^^^^^^^^^^^^^^^^^^^^^^^^^^^^^^^^^^\n",
            "  File \"<ipython-input-5-fcb2edd04658>\", line 36, in callback\n",
            "    handler.handle(body, signature)\n",
            "  File \"/usr/local/lib/python3.11/dist-packages/linebot/v3/webhook.py\", line 227, in handle\n",
            "    self.__invoke_func(func, event, payload)\n",
            "  File \"/usr/local/lib/python3.11/dist-packages/linebot/v3/webhook.py\", line 239, in __invoke_func\n",
            "    func(event)\n",
            "  File \"<ipython-input-5-fcb2edd04658>\", line 90, in handle_message\n",
            "    reply=Textmessage(text=event.message.text)\n",
            "          ^^^^^^^^^^^\n",
            "NameError: name 'Textmessage' is not defined\n",
            "INFO:werkzeug:127.0.0.1 - - [13/May/2025 07:49:13] \"\u001b[35m\u001b[1mPOST /callback HTTP/1.1\u001b[0m\" 500 -\n"
          ]
        }
      ]
    }
  ]
}