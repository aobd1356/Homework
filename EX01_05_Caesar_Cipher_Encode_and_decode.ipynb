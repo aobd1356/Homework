{
  "nbformat": 4,
  "nbformat_minor": 0,
  "metadata": {
    "colab": {
      "provenance": [],
      "authorship_tag": "ABX9TyOMPQK0fJhPEuaBuMybsOr5",
      "include_colab_link": true
    },
    "kernelspec": {
      "name": "python3",
      "display_name": "Python 3"
    },
    "language_info": {
      "name": "python"
    }
  },
  "cells": [
    {
      "cell_type": "markdown",
      "metadata": {
        "id": "view-in-github",
        "colab_type": "text"
      },
      "source": [
        "<a href=\"https://colab.research.google.com/github/aobd1356/Homework/blob/main/EX01_05_Caesar_Cipher_Encode_and_decode.ipynb\" target=\"_parent\"><img src=\"https://colab.research.google.com/assets/colab-badge.svg\" alt=\"Open In Colab\"/></a>"
      ]
    },
    {
      "cell_type": "code",
      "execution_count": 5,
      "metadata": {
        "colab": {
          "base_uri": "https://localhost:8080/"
        },
        "id": "5vmyHxSB9dtc",
        "outputId": "2322b0ec-2717-4a68-e208-191fa5f984b0"
      },
      "outputs": [
        {
          "output_type": "stream",
          "name": "stdout",
          "text": [
            "e8\n",
            "i hate you\n",
            "q(pi|m(w}\n"
          ]
        }
      ],
      "source": [
        "act = input()\n",
        "txt = input()\n",
        "\n",
        "act_type = act[0]\n",
        "key = int(act[1:])\n",
        "ntxt = ''\n",
        "\n",
        "if act_type == 'd':\n",
        "  for c in txt:\n",
        "    nc = ord(c) - key\n",
        "    ntxt = ntxt + chr(nc)\n",
        "else:\n",
        "  for c in txt:\n",
        "    nc = ord(c) + key\n",
        "    ntxt = ntxt + chr(nc)\n",
        "\n",
        "print(ntxt)"
      ]
    }
  ]
}