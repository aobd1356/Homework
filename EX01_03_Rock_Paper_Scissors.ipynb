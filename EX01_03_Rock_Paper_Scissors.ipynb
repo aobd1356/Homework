{
  "nbformat": 4,
  "nbformat_minor": 0,
  "metadata": {
    "colab": {
      "provenance": [],
      "authorship_tag": "ABX9TyOG2hZ1F/AJs5n2+Vddc/2s",
      "include_colab_link": true
    },
    "kernelspec": {
      "name": "python3",
      "display_name": "Python 3"
    },
    "language_info": {
      "name": "python"
    }
  },
  "cells": [
    {
      "cell_type": "markdown",
      "metadata": {
        "id": "view-in-github",
        "colab_type": "text"
      },
      "source": [
        "<a href=\"https://colab.research.google.com/github/aobd1356/Homework/blob/main/EX01_03_Rock_Paper_Scissors.ipynb\" target=\"_parent\"><img src=\"https://colab.research.google.com/assets/colab-badge.svg\" alt=\"Open In Colab\"/></a>"
      ]
    },
    {
      "cell_type": "code",
      "execution_count": 2,
      "metadata": {
        "colab": {
          "base_uri": "https://localhost:8080/"
        },
        "id": "nvVcWWwZRnKF",
        "outputId": "777719f4-b986-4be3-decd-1a2ac42bd258"
      },
      "outputs": [
        {
          "output_type": "stream",
          "name": "stdout",
          "text": [
            "0\n",
            "2\n",
            " you win \n"
          ]
        }
      ],
      "source": [
        "import random\n",
        "ply = int(input())\n",
        "cmp = random.choice([0,2,5])\n",
        "print(cmp)\n",
        "if ply == cmp:\n",
        "  print('draw')\n",
        "elif(ply==0 and cmp==2)or(ply==2 and cmp==5)or(ply==5 and cmp==0):\n",
        "  print(' you win ')\n",
        "else :print(' you lose ')"
      ]
    }
  ]
}