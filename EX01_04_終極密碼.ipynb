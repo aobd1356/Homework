{
  "nbformat": 4,
  "nbformat_minor": 0,
  "metadata": {
    "colab": {
      "provenance": [],
      "authorship_tag": "ABX9TyNFlDtd9CcNfemm5T7OOimO",
      "include_colab_link": true
    },
    "kernelspec": {
      "name": "python3",
      "display_name": "Python 3"
    },
    "language_info": {
      "name": "python"
    }
  },
  "cells": [
    {
      "cell_type": "markdown",
      "metadata": {
        "id": "view-in-github",
        "colab_type": "text"
      },
      "source": [
        "<a href=\"https://colab.research.google.com/github/aobd1356/Homework/blob/main/EX01_04_%E7%B5%82%E6%A5%B5%E5%AF%86%E7%A2%BC.ipynb\" target=\"_parent\"><img src=\"https://colab.research.google.com/assets/colab-badge.svg\" alt=\"Open In Colab\"/></a>"
      ]
    },
    {
      "cell_type": "code",
      "execution_count": 4,
      "metadata": {
        "colab": {
          "base_uri": "https://localhost:8080/"
        },
        "id": "jRQc6O4l7HDV",
        "outputId": "dbdcc814-0c2d-4e7c-885f-809bd9e74b41"
      },
      "outputs": [
        {
          "output_type": "stream",
          "name": "stdout",
          "text": [
            "0 _ 100\n",
            "guess:1\n",
            "1 _ 100\n",
            "guess:95\n",
            "1 _ 95\n",
            "guess:50\n",
            "50 _ 95\n",
            "guess:65\n",
            "50 _ 65\n",
            "guess:55\n",
            "50 _ 55\n",
            "guess:53\n",
            "猜中\n"
          ]
        }
      ],
      "source": [
        "import random\n",
        "bomb = random.randint(1,99)\n",
        "\n",
        "LF = 0\n",
        "RT = 100\n",
        "\n",
        "while True:\n",
        "  print(LF,'_',RT)\n",
        "  GU = int(input('guess:'))\n",
        "  if GU <= LF or GU>=RT:\n",
        "    print('超過範圍')\n",
        "  elif GU < bomb :\n",
        "    LF = GU\n",
        "  elif GU > bomb :\n",
        "    RT = GU\n",
        "  else:\n",
        "    print('猜中')\n",
        "    break\n"
      ]
    }
  ]
}