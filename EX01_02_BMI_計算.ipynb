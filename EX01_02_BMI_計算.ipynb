{
  "nbformat": 4,
  "nbformat_minor": 0,
  "metadata": {
    "colab": {
      "provenance": [],
      "authorship_tag": "ABX9TyPLsLZMdh2IhfvbZQub4UJj",
      "include_colab_link": true
    },
    "kernelspec": {
      "name": "python3",
      "display_name": "Python 3"
    },
    "language_info": {
      "name": "python"
    }
  },
  "cells": [
    {
      "cell_type": "markdown",
      "metadata": {
        "id": "view-in-github",
        "colab_type": "text"
      },
      "source": [
        "<a href=\"https://colab.research.google.com/github/aobd1356/Homework/blob/main/EX01_02_BMI_%E8%A8%88%E7%AE%97.ipynb\" target=\"_parent\"><img src=\"https://colab.research.google.com/assets/colab-badge.svg\" alt=\"Open In Colab\"/></a>"
      ]
    },
    {
      "cell_type": "code",
      "execution_count": 2,
      "metadata": {
        "colab": {
          "base_uri": "https://localhost:8080/"
        },
        "id": "KnjmrZt9K4At",
        "outputId": "3a5cb87c-7a10-42f5-b9c0-327a37c31ebf"
      },
      "outputs": [
        {
          "output_type": "stream",
          "name": "stdout",
          "text": [
            "height(cm):173\n",
            "weight(kg):55\n",
            "BMI= 18.4\n"
          ]
        }
      ],
      "source": [
        "ht=float(input('height(cm):'))\n",
        "wt=float(input('weight(kg):'))\n",
        "bmi=wt/(ht/100)**2\n",
        "print('BMI=',round(bmi,1))"
      ]
    }
  ]
}